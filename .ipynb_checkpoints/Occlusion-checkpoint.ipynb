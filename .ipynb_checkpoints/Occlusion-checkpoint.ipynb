{
 "cells": [
  {
   "cell_type": "code",
   "execution_count": 1,
   "id": "4b574d98-d064-45e3-a937-24a7c74a3755",
   "metadata": {},
   "outputs": [],
   "source": [
    "from scipy.ndimage import zoom\n",
    "import torch\n",
    "import numpy as np"
   ]
  },
  {
   "cell_type": "code",
   "execution_count": 2,
   "id": "6e68e8f8-3973-42a8-ba88-f359280e48bd",
   "metadata": {},
   "outputs": [],
   "source": [
    "def resample_to_target_shape(data, target_shape):\n",
    "    \"\"\"\n",
    "    Resample data to match the target shape\n",
    "    \"\"\"\n",
    "    # Calculate zoom factors\n",
    "    factors = (target_shape[0] / data.shape[0],\n",
    "               target_shape[1] / data.shape[1],\n",
    "               target_shape[2] / data.shape[2])\n",
    "\n",
    "    # Resample using order=1 (linear interpolation) for continuous data\n",
    "    resampled_data = zoom(data, factors, order=1)\n",
    "\n",
    "    return resampled_data\n"
   ]
  },
  {
   "cell_type": "code",
   "execution_count": 3,
   "id": "1d687b33-9302-441a-a79d-18061661d98f",
   "metadata": {},
   "outputs": [],
   "source": [
    "\n",
    "def perform_region_occlusion_analysis(test_loader, model, device, atlas_data, region_labels, region_mapping, img_shape):\n",
    "    \"\"\"\n",
    "    Perform occlusion analysis based on brain regions defined in the atlas\n",
    "    \"\"\"\n",
    "    model.eval()\n",
    "\n",
    "    print(f\"Target image shape for resampling: {img_shape}\")\n",
    "\n",
    "    # Check if the atlas needs resampling\n",
    "    if atlas_data.shape != img_shape:\n",
    "        print(f\"Resampling atlas from {atlas_data.shape} to {img_shape}\")\n",
    "        resampled_atlas = resample_to_target_shape(atlas_data, img_shape)\n",
    "    else:\n",
    "        print(\"Atlas already matches target shape, no resampling needed\")\n",
    "        resampled_atlas = atlas_data\n",
    "\n",
    "    print(f\"Resampled atlas shape: {resampled_atlas.shape}\")\n",
    "\n",
    "    # Initialize results dictionary to store effect per region\n",
    "    region_occlusion_effects = {region: 0 for region in region_labels}\n",
    "    region_sample_counts = {region: 0 for region in region_labels}\n",
    "\n",
    "    print('======= Starting Region-Based Occlusion Analysis =============')\n",
    "\n",
    "    sample_count = 0\n",
    "\n",
    "    with torch.no_grad():\n",
    "        for _, (input_img, ids, target, male) in enumerate(test_loader):\n",
    "            # Print input_img shape for debugging\n",
    "            print(f\"Input image shape: {input_img.shape}\")\n",
    "\n",
    "            # Debugging: Print detailed shape information\n",
    "            print(f\"Input data type: {input_img.dtype}\")\n",
    "\n",
    "            # Get original prediction\n",
    "            input_img = input_img.to(device).type(torch.FloatTensor)\n",
    "\n",
    "            # Handle gender information if needed by model\n",
    "            # if opt.model == 'ScaleDense':\n",
    "            #     male_onehot = torch.unsqueeze(male, 1)\n",
    "            #     male_onehot = torch.zeros(male_onehot.shape[0], 2).scatter_(1, male_onehot, 1)\n",
    "            #     male_onehot = male_onehot.type(torch.FloatTensor).to(device)\n",
    "            #     original_output = model(input_img, male_onehot)\n",
    "            # else:\n",
    "            #     original_output = model(input_img)\n",
    "\n",
    "            original_output = model(input_img)\n",
    "\n",
    "            # original_output = original_output.cpu().numpy()\n",
    "            original_output = original_output[0].numpy()\n",
    "\n",
    "            # Process each region one by one\n",
    "            for region in region_labels:\n",
    "                # Free up memory\n",
    "                torch.cuda.empty_cache()\n",
    "\n",
    "                # Create mask for this region\n",
    "                region_mask = (resampled_atlas == region)\n",
    "\n",
    "                # Skip if region is not present in the resampled atlas\n",
    "                if not np.any(region_mask):\n",
    "                    continue\n",
    "\n",
    "                # Clone the original input\n",
    "                masked_input = input_img.clone()\n",
    "\n",
    "                # Move input to CPU for masking\n",
    "                # cpu_input = masked_input.cpu().numpy()\n",
    "\n",
    "                cpu_input = masked_input.numpy()\n",
    "\n",
    "                # Create a zero array with the same shape\n",
    "                zeroed_array = np.zeros_like(cpu_input)\n",
    "\n",
    "                # Create a mask array by broadcasting the region mask\n",
    "                # This safely handles all dimension arrangements\n",
    "                mask_array = np.ones_like(cpu_input)\n",
    "\n",
    "                # Apply the region mask - this is the key change\n",
    "                # We're assuming the last 3 dimensions of cpu_input correspond to the 3D volume\n",
    "                for i in range(cpu_input.shape[0]):  # batch dimension\n",
    "                    # Create a view that can be applied to the 3D volume regardless of channel arrangement\n",
    "                    mask_view = np.broadcast_to(~region_mask, cpu_input[i].shape)\n",
    "                    cpu_input[i] = cpu_input[i] * mask_view\n",
    "\n",
    "                # Move back to GPU\n",
    "                masked_input = torch.from_numpy(cpu_input).to(device)\n",
    "\n",
    "                # Get prediction for masked input\n",
    "                # if opt.model == 'ScaleDense':\n",
    "                #     masked_output = model(masked_input, male_onehot)\n",
    "                # else:\n",
    "                #     masked_output = model(masked_input)\n",
    "\n",
    "                masked_output = model(masked_input)\n",
    "\n",
    "                # masked_output = masked_output.cpu().numpy()\n",
    "                masked_output = masked_output[0].numpy()\n",
    "                print('region:- ',region_mapping[region])\n",
    "                print('original_output:- ',original_output)\n",
    "                print('masked_output:- ',masked_output)\n",
    "\n",
    "                # Calculate effect for this region (difference from original)\n",
    "                effect = abs(masked_output - original_output)\n",
    "\n",
    "                # Accumulate effect for this region\n",
    "                region_occlusion_effects[region] += effect.item()\n",
    "                region_sample_counts[region] += 1\n",
    "\n",
    "                # Clean up\n",
    "                del masked_input, cpu_input\n",
    "                if 'masked_output' in locals():\n",
    "                    del masked_output\n",
    "                torch.cuda.empty_cache()\n",
    "\n",
    "            sample_count += 1\n",
    "            print(f\"Processed sample {sample_count}/{len(test_loader)}: {ids[0]}\")\n",
    "\n",
    "    # Average effects across samples\n",
    "    for region in region_labels:\n",
    "        if region_sample_counts[region] > 0:\n",
    "            region_occlusion_effects[region] /= region_sample_counts[region]\n",
    "\n",
    "    # Convert results to a structured array\n",
    "    result_array = np.array([region_occlusion_effects[region] for region in region_labels])\n",
    "\n",
    "    return result_array\n",
    "\n"
   ]
  },
  {
   "cell_type": "code",
   "execution_count": 4,
   "id": "e7e300fe-d074-43f4-8c9b-69da82b32638",
   "metadata": {},
   "outputs": [],
   "source": [
    "import os\n",
    "from Models.MultiViewViT import MultiViewViT\n",
    "from load_data import IMG_Folder\n",
    "import torch.nn as nn\n",
    "import nibabel as nib\n",
    "from nilearn import datasets"
   ]
  },
  {
   "cell_type": "code",
   "execution_count": 5,
   "id": "2b618045-e8ef-4c5c-8011-aedd7e5788f3",
   "metadata": {},
   "outputs": [],
   "source": [
    "def weights_init(w):\n",
    "    classname = w.__class__.__name__\n",
    "    if classname.find('Conv') != -1:\n",
    "        if hasattr(w, 'weight'):\n",
    "            # nn.init.kaiming_normal_(w.weight, mode='fan_out', nonlinearity='relu')\n",
    "            nn.init.kaiming_normal_(w.weight, mode='fan_in', nonlinearity='leaky_relu')\n",
    "        if hasattr(w, 'bias') and w.bias is not None:\n",
    "                nn.init.constant_(w.bias, 0)\n",
    "    if classname.find('Linear') != -1:\n",
    "        if hasattr(w, 'weight'):\n",
    "            torch.nn.init.xavier_normal_(w.weight)\n",
    "        if hasattr(w, 'bias') and w.bias is not None:\n",
    "            nn.init.constant_(w.bias, 0)\n",
    "    if classname.find('BatchNorm') != -1:\n",
    "        if hasattr(w, 'weight') and w.weight is not None:\n",
    "            nn.init.constant_(w.weight, 1)\n",
    "        if hasattr(w, 'bias') and w.bias is not None:\n",
    "            nn.init.constant_(w.bias, 0)"
   ]
  },
  {
   "cell_type": "code",
   "execution_count": 6,
   "id": "adcdd2a7-4d78-4750-9554-e319394b3cd7",
   "metadata": {},
   "outputs": [
    {
     "data": {
      "text/plain": [
       "<All keys matched successfully>"
      ]
     },
     "execution_count": 6,
     "metadata": {},
     "output_type": "execute_result"
    }
   ],
   "source": [
    "# Load model\n",
    "model = MultiViewViT(\n",
    "    image_sizes=[(91, 109), (91, 91), (109, 91)],\n",
    "    patch_sizes=[(7, 7), (7, 7), (7, 7)],\n",
    "    num_channals=[91, 109, 91],\n",
    "    vit_args={\n",
    "        'emb_dim': 768, 'mlp_dim': 3072, 'num_heads': 12,\n",
    "        'num_layers': 12, 'num_classes': 1,\n",
    "        'dropout_rate': 0.1, 'attn_dropout_rate': 0.0\n",
    "    },\n",
    "    mlp_dims=[3, 128, 256, 512, 1024, 512, 256, 128, 1]\n",
    ")\n",
    "model.apply(weights_init)\n",
    "model = model.to(\"cpu\")\n",
    "\n",
    "# Load checkpoint\n",
    "CheckpointPath = r'C:\\Users\\Rishabh\\training_output_metricsMulti_VIT_best_model.pth.tar'\n",
    "checkpoint = torch.load(CheckpointPath, map_location=\"cpu\")\n",
    "state_dict = checkpoint[\"state_dict\"]\n",
    "new_state_dict = {k.replace(\"module.\", \"\"): v for k, v in state_dict.items()}\n",
    "model.load_state_dict(new_state_dict)"
   ]
  },
  {
   "cell_type": "code",
   "execution_count": 7,
   "id": "61dc372d-ead3-4b64-a0d0-43c497db20ca",
   "metadata": {},
   "outputs": [],
   "source": [
    "CheckpointPath = r'C:\\Users\\Rishabh\\trainingMulti_VIT_best_model.pth.tar'\n",
    "CSVPath = r'C:\\Users\\Rishabh\\Documents\\TransBTS\\IXI.xlsx'\n",
    "# DataFolder = r'C:\\Users\\Rishabh\\Documents\\TrimeseData'\n",
    "DataFolder = r\"C:\\Users\\Rishabh\\TrimeesePreprocessedData\"\n",
    "test_data = IMG_Folder(CSVPath, DataFolder)\n",
    "device = \"cpu\""
   ]
  },
  {
   "cell_type": "code",
   "execution_count": 8,
   "id": "880a0fdb-20a7-4c26-8c70-10b55980448d",
   "metadata": {},
   "outputs": [],
   "source": [
    "valid_loader = torch.utils.data.DataLoader(test_data\n",
    "                                         ,batch_size=1\n",
    "                                         ,num_workers=0\n",
    "                                         ,pin_memory=True\n",
    "                                         ,drop_last=True\n",
    "                                         )"
   ]
  },
  {
   "cell_type": "code",
   "execution_count": 9,
   "id": "290489f7-a192-447f-a93e-8c65e25cd550",
   "metadata": {},
   "outputs": [
    {
     "name": "stderr",
     "output_type": "stream",
     "text": [
      "C:\\Users\\Rishabh\\AppData\\Local\\Temp\\ipykernel_4960\\3018833866.py:2: DeprecationWarning: Starting in version 0.13, the default fetched mask will beAAL 3v2 instead.\n",
      "  aal_atlas = datasets.fetch_atlas_aal()\n"
     ]
    },
    {
     "name": "stdout",
     "output_type": "stream",
     "text": [
      "[fetch_atlas_aal] Dataset found in C:\\Users\\Rishabh\\nilearn_data\\aal_SPM12\n",
      "Number of regions in atlas: 116\n",
      "Atlas shape: (91, 109, 91)\n"
     ]
    }
   ],
   "source": [
    "# ======== Load AAL atlas ======== #\n",
    "aal_atlas = datasets.fetch_atlas_aal()\n",
    "atlas_filename = aal_atlas.maps\n",
    "atlas_nii = nib.load(atlas_filename)\n",
    "atlas_data = atlas_nii.get_fdata()\n",
    "region_labels = np.unique(atlas_data)[1:]  # Exclude 0 (background)\n",
    "region_mapping = {code: label for code, label in zip(region_labels, aal_atlas.labels)}\n",
    "\n",
    "print(f\"Number of regions in atlas: {len(region_labels)}\")\n",
    "print(f\"Atlas shape: {atlas_data.shape}\")"
   ]
  },
  {
   "cell_type": "code",
   "execution_count": 10,
   "id": "8955f730-1e96-45cd-ace1-8d595764c435",
   "metadata": {},
   "outputs": [
    {
     "data": {
      "text/plain": [
       "(91, 109, 91)"
      ]
     },
     "execution_count": 10,
     "metadata": {},
     "output_type": "execute_result"
    }
   ],
   "source": [
    "atlas_data.shape"
   ]
  },
  {
   "cell_type": "code",
   "execution_count": 11,
   "id": "56cf1846-60be-4e47-b3da-7b3f8d898bc7",
   "metadata": {},
   "outputs": [
    {
     "data": {
      "text/plain": [
       "117"
      ]
     },
     "execution_count": 11,
     "metadata": {},
     "output_type": "execute_result"
    }
   ],
   "source": [
    "len(np.unique(atlas_data))"
   ]
  },
  {
   "cell_type": "code",
   "execution_count": 12,
   "id": "13c52d7f-8fef-4410-aa39-0f3f0cff2efb",
   "metadata": {
    "scrolled": true
   },
   "outputs": [
    {
     "data": {
      "text/plain": [
       "MultiViewViT(\n",
       "  (vit_1): VisionTransformer(\n",
       "    (embedding): Conv2d(91, 768, kernel_size=(7, 7), stride=(7, 7))\n",
       "    (transformer): Encoder(\n",
       "      (pos_embedding): PositionEmbs(\n",
       "        (dropout): Dropout(p=0.1, inplace=False)\n",
       "      )\n",
       "      (encoder_layers): ModuleList(\n",
       "        (0-11): 12 x EncoderBlock(\n",
       "          (norm1): LayerNorm((768,), eps=1e-05, elementwise_affine=True)\n",
       "          (attn): SelfAttention(\n",
       "            (query): LinearGeneral()\n",
       "            (key): LinearGeneral()\n",
       "            (value): LinearGeneral()\n",
       "            (out): LinearGeneral()\n",
       "          )\n",
       "          (dropout): Dropout(p=0.1, inplace=False)\n",
       "          (norm2): LayerNorm((768,), eps=1e-05, elementwise_affine=True)\n",
       "          (mlp): MlpBlock(\n",
       "            (fc1): Linear(in_features=768, out_features=3072, bias=True)\n",
       "            (fc2): Linear(in_features=3072, out_features=768, bias=True)\n",
       "            (act): GELU(approximate='none')\n",
       "            (dropout1): Dropout(p=0.1, inplace=False)\n",
       "            (dropout2): Dropout(p=0.1, inplace=False)\n",
       "          )\n",
       "        )\n",
       "      )\n",
       "      (norm): LayerNorm((768,), eps=1e-05, elementwise_affine=True)\n",
       "    )\n",
       "    (classifier): Linear(in_features=768, out_features=1, bias=True)\n",
       "  )\n",
       "  (vit_2): VisionTransformer(\n",
       "    (embedding): Conv2d(109, 768, kernel_size=(7, 7), stride=(7, 7))\n",
       "    (transformer): Encoder(\n",
       "      (pos_embedding): PositionEmbs(\n",
       "        (dropout): Dropout(p=0.1, inplace=False)\n",
       "      )\n",
       "      (encoder_layers): ModuleList(\n",
       "        (0-11): 12 x EncoderBlock(\n",
       "          (norm1): LayerNorm((768,), eps=1e-05, elementwise_affine=True)\n",
       "          (attn): SelfAttention(\n",
       "            (query): LinearGeneral()\n",
       "            (key): LinearGeneral()\n",
       "            (value): LinearGeneral()\n",
       "            (out): LinearGeneral()\n",
       "          )\n",
       "          (dropout): Dropout(p=0.1, inplace=False)\n",
       "          (norm2): LayerNorm((768,), eps=1e-05, elementwise_affine=True)\n",
       "          (mlp): MlpBlock(\n",
       "            (fc1): Linear(in_features=768, out_features=3072, bias=True)\n",
       "            (fc2): Linear(in_features=3072, out_features=768, bias=True)\n",
       "            (act): GELU(approximate='none')\n",
       "            (dropout1): Dropout(p=0.1, inplace=False)\n",
       "            (dropout2): Dropout(p=0.1, inplace=False)\n",
       "          )\n",
       "        )\n",
       "      )\n",
       "      (norm): LayerNorm((768,), eps=1e-05, elementwise_affine=True)\n",
       "    )\n",
       "    (classifier): Linear(in_features=768, out_features=1, bias=True)\n",
       "  )\n",
       "  (vit_3): VisionTransformer(\n",
       "    (embedding): Conv2d(91, 768, kernel_size=(7, 7), stride=(7, 7))\n",
       "    (transformer): Encoder(\n",
       "      (pos_embedding): PositionEmbs(\n",
       "        (dropout): Dropout(p=0.1, inplace=False)\n",
       "      )\n",
       "      (encoder_layers): ModuleList(\n",
       "        (0-11): 12 x EncoderBlock(\n",
       "          (norm1): LayerNorm((768,), eps=1e-05, elementwise_affine=True)\n",
       "          (attn): SelfAttention(\n",
       "            (query): LinearGeneral()\n",
       "            (key): LinearGeneral()\n",
       "            (value): LinearGeneral()\n",
       "            (out): LinearGeneral()\n",
       "          )\n",
       "          (dropout): Dropout(p=0.1, inplace=False)\n",
       "          (norm2): LayerNorm((768,), eps=1e-05, elementwise_affine=True)\n",
       "          (mlp): MlpBlock(\n",
       "            (fc1): Linear(in_features=768, out_features=3072, bias=True)\n",
       "            (fc2): Linear(in_features=3072, out_features=768, bias=True)\n",
       "            (act): GELU(approximate='none')\n",
       "            (dropout1): Dropout(p=0.1, inplace=False)\n",
       "            (dropout2): Dropout(p=0.1, inplace=False)\n",
       "          )\n",
       "        )\n",
       "      )\n",
       "      (norm): LayerNorm((768,), eps=1e-05, elementwise_affine=True)\n",
       "    )\n",
       "    (classifier): Linear(in_features=768, out_features=1, bias=True)\n",
       "  )\n",
       "  (mlp): Sequential(\n",
       "    (0): Linear(in_features=3, out_features=128, bias=True)\n",
       "    (1): ReLU()\n",
       "    (2): Linear(in_features=128, out_features=256, bias=True)\n",
       "    (3): ReLU()\n",
       "    (4): Linear(in_features=256, out_features=512, bias=True)\n",
       "    (5): ReLU()\n",
       "    (6): Linear(in_features=512, out_features=1024, bias=True)\n",
       "    (7): ReLU()\n",
       "    (8): Linear(in_features=1024, out_features=512, bias=True)\n",
       "    (9): ReLU()\n",
       "    (10): Linear(in_features=512, out_features=256, bias=True)\n",
       "    (11): ReLU()\n",
       "    (12): Linear(in_features=256, out_features=128, bias=True)\n",
       "    (13): ReLU()\n",
       "    (14): Linear(in_features=128, out_features=1, bias=True)\n",
       "  )\n",
       ")"
      ]
     },
     "execution_count": 12,
     "metadata": {},
     "output_type": "execute_result"
    }
   ],
   "source": [
    "model.eval()"
   ]
  },
  {
   "cell_type": "code",
   "execution_count": 13,
   "id": "a3dd3a9f-2202-4d1a-a2f5-5e0e4652e6af",
   "metadata": {},
   "outputs": [
    {
     "name": "stdout",
     "output_type": "stream",
     "text": [
      "Detected image shape: (91, 109, 91)\n"
     ]
    }
   ],
   "source": [
    "# Get sample image to determine exact shape\n",
    "for sample_data in valid_loader:\n",
    "    sample_img = sample_data[0]\n",
    "    img_shape = (sample_img.shape[1], sample_img.shape[2], sample_img.shape[3])\n",
    "    print(f\"Detected image shape: {img_shape}\")\n",
    "    break"
   ]
  },
  {
   "cell_type": "code",
   "execution_count": 14,
   "id": "c7d92362-6303-4a8e-9521-c3923c55550e",
   "metadata": {
    "scrolled": true
   },
   "outputs": [
    {
     "name": "stdout",
     "output_type": "stream",
     "text": [
      "Target image shape for resampling: (91, 109, 91)\n",
      "Atlas already matches target shape, no resampling needed\n",
      "Resampled atlas shape: (91, 109, 91)\n",
      "======= Starting Region-Based Occlusion Analysis =============\n",
      "Input image shape: torch.Size([1, 91, 109, 91])\n",
      "Input data type: torch.float32\n",
      "region:-  Background\n",
      "original_output:-  [[35.033962]]\n",
      "masked_output:-  [[34.101727]]\n",
      "region:-  Precentral_L\n",
      "original_output:-  [[35.033962]]\n",
      "masked_output:-  [[34.487473]]\n",
      "region:-  Precentral_R\n",
      "original_output:-  [[35.033962]]\n",
      "masked_output:-  [[34.752857]]\n",
      "region:-  Frontal_Sup_L\n",
      "original_output:-  [[35.033962]]\n",
      "masked_output:-  [[34.5861]]\n",
      "region:-  Frontal_Sup_R\n",
      "original_output:-  [[35.033962]]\n",
      "masked_output:-  [[35.388454]]\n",
      "region:-  Frontal_Sup_Orb_L\n",
      "original_output:-  [[35.033962]]\n",
      "masked_output:-  [[34.94625]]\n",
      "region:-  Frontal_Sup_Orb_R\n",
      "original_output:-  [[35.033962]]\n",
      "masked_output:-  [[33.905746]]\n",
      "region:-  Frontal_Mid_L\n",
      "original_output:-  [[35.033962]]\n",
      "masked_output:-  [[34.602165]]\n",
      "region:-  Frontal_Mid_R\n",
      "original_output:-  [[35.033962]]\n",
      "masked_output:-  [[35.690125]]\n",
      "region:-  Frontal_Mid_Orb_L\n",
      "original_output:-  [[35.033962]]\n",
      "masked_output:-  [[35.10793]]\n",
      "region:-  Frontal_Mid_Orb_R\n",
      "original_output:-  [[35.033962]]\n",
      "masked_output:-  [[36.28557]]\n",
      "region:-  Frontal_Inf_Oper_L\n",
      "original_output:-  [[35.033962]]\n",
      "masked_output:-  [[34.845444]]\n",
      "region:-  Frontal_Inf_Oper_R\n",
      "original_output:-  [[35.033962]]\n",
      "masked_output:-  [[33.835464]]\n",
      "region:-  Frontal_Inf_Tri_L\n",
      "original_output:-  [[35.033962]]\n",
      "masked_output:-  [[35.323265]]\n",
      "region:-  Frontal_Inf_Tri_R\n",
      "original_output:-  [[35.033962]]\n",
      "masked_output:-  [[41.000107]]\n",
      "region:-  Frontal_Inf_Orb_L\n",
      "original_output:-  [[35.033962]]\n",
      "masked_output:-  [[35.74101]]\n",
      "region:-  Frontal_Inf_Orb_R\n",
      "original_output:-  [[35.033962]]\n",
      "masked_output:-  [[34.392475]]\n"
     ]
    },
    {
     "ename": "KeyboardInterrupt",
     "evalue": "",
     "output_type": "error",
     "traceback": [
      "\u001b[31m---------------------------------------------------------------------------\u001b[39m",
      "\u001b[31mKeyboardInterrupt\u001b[39m                         Traceback (most recent call last)",
      "\u001b[36mCell\u001b[39m\u001b[36m \u001b[39m\u001b[32mIn[14]\u001b[39m\u001b[32m, line 2\u001b[39m\n\u001b[32m      1\u001b[39m \u001b[38;5;66;03m# ======== perform region-based occlusion analysis ======== #\u001b[39;00m\n\u001b[32m----> \u001b[39m\u001b[32m2\u001b[39m region_occlusion_results = \u001b[43mperform_region_occlusion_analysis\u001b[49m\u001b[43m(\u001b[49m\n\u001b[32m      3\u001b[39m \u001b[43m    \u001b[49m\u001b[43mtest_loader\u001b[49m\u001b[43m=\u001b[49m\u001b[43mvalid_loader\u001b[49m\u001b[43m,\u001b[49m\n\u001b[32m      4\u001b[39m \u001b[43m    \u001b[49m\u001b[43mmodel\u001b[49m\u001b[43m=\u001b[49m\u001b[43mmodel\u001b[49m\u001b[43m,\u001b[49m\n\u001b[32m      5\u001b[39m \u001b[43m    \u001b[49m\u001b[43mdevice\u001b[49m\u001b[43m=\u001b[49m\u001b[33;43m\"\u001b[39;49m\u001b[33;43mcpu\u001b[39;49m\u001b[33;43m\"\u001b[39;49m\u001b[43m,\u001b[49m\n\u001b[32m      6\u001b[39m \u001b[43m    \u001b[49m\u001b[43matlas_data\u001b[49m\u001b[43m=\u001b[49m\u001b[43matlas_data\u001b[49m\u001b[43m,\u001b[49m\n\u001b[32m      7\u001b[39m \u001b[43m    \u001b[49m\u001b[43mregion_labels\u001b[49m\u001b[43m=\u001b[49m\u001b[43mregion_labels\u001b[49m\u001b[43m,\u001b[49m\n\u001b[32m      8\u001b[39m \u001b[43m    \u001b[49m\u001b[43mregion_mapping\u001b[49m\u001b[43m=\u001b[49m\u001b[43mregion_mapping\u001b[49m\u001b[43m,\u001b[49m\n\u001b[32m      9\u001b[39m \u001b[43m    \u001b[49m\u001b[43mimg_shape\u001b[49m\u001b[43m=\u001b[49m\u001b[43mimg_shape\u001b[49m\n\u001b[32m     10\u001b[39m \u001b[43m)\u001b[49m\n",
      "\u001b[36mCell\u001b[39m\u001b[36m \u001b[39m\u001b[32mIn[3]\u001b[39m\u001b[32m, line 95\u001b[39m, in \u001b[36mperform_region_occlusion_analysis\u001b[39m\u001b[34m(test_loader, model, device, atlas_data, region_labels, region_mapping, img_shape)\u001b[39m\n\u001b[32m     87\u001b[39m masked_input = torch.from_numpy(cpu_input).to(device)\n\u001b[32m     89\u001b[39m \u001b[38;5;66;03m# Get prediction for masked input\u001b[39;00m\n\u001b[32m     90\u001b[39m \u001b[38;5;66;03m# if opt.model == 'ScaleDense':\u001b[39;00m\n\u001b[32m     91\u001b[39m \u001b[38;5;66;03m#     masked_output = model(masked_input, male_onehot)\u001b[39;00m\n\u001b[32m     92\u001b[39m \u001b[38;5;66;03m# else:\u001b[39;00m\n\u001b[32m     93\u001b[39m \u001b[38;5;66;03m#     masked_output = model(masked_input)\u001b[39;00m\n\u001b[32m---> \u001b[39m\u001b[32m95\u001b[39m masked_output = \u001b[43mmodel\u001b[49m\u001b[43m(\u001b[49m\u001b[43mmasked_input\u001b[49m\u001b[43m)\u001b[49m\n\u001b[32m     97\u001b[39m \u001b[38;5;66;03m# masked_output = masked_output.cpu().numpy()\u001b[39;00m\n\u001b[32m     98\u001b[39m masked_output = masked_output[\u001b[32m0\u001b[39m].numpy()\n",
      "\u001b[36mFile \u001b[39m\u001b[32m~\\anaconda3\\envs\\Triamese-ViT\\Lib\\site-packages\\torch\\nn\\modules\\module.py:1751\u001b[39m, in \u001b[36mModule._wrapped_call_impl\u001b[39m\u001b[34m(self, *args, **kwargs)\u001b[39m\n\u001b[32m   1749\u001b[39m     \u001b[38;5;28;01mreturn\u001b[39;00m \u001b[38;5;28mself\u001b[39m._compiled_call_impl(*args, **kwargs)  \u001b[38;5;66;03m# type: ignore[misc]\u001b[39;00m\n\u001b[32m   1750\u001b[39m \u001b[38;5;28;01melse\u001b[39;00m:\n\u001b[32m-> \u001b[39m\u001b[32m1751\u001b[39m     \u001b[38;5;28;01mreturn\u001b[39;00m \u001b[38;5;28;43mself\u001b[39;49m\u001b[43m.\u001b[49m\u001b[43m_call_impl\u001b[49m\u001b[43m(\u001b[49m\u001b[43m*\u001b[49m\u001b[43margs\u001b[49m\u001b[43m,\u001b[49m\u001b[43m \u001b[49m\u001b[43m*\u001b[49m\u001b[43m*\u001b[49m\u001b[43mkwargs\u001b[49m\u001b[43m)\u001b[49m\n",
      "\u001b[36mFile \u001b[39m\u001b[32m~\\anaconda3\\envs\\Triamese-ViT\\Lib\\site-packages\\torch\\nn\\modules\\module.py:1762\u001b[39m, in \u001b[36mModule._call_impl\u001b[39m\u001b[34m(self, *args, **kwargs)\u001b[39m\n\u001b[32m   1757\u001b[39m \u001b[38;5;66;03m# If we don't have any hooks, we want to skip the rest of the logic in\u001b[39;00m\n\u001b[32m   1758\u001b[39m \u001b[38;5;66;03m# this function, and just call forward.\u001b[39;00m\n\u001b[32m   1759\u001b[39m \u001b[38;5;28;01mif\u001b[39;00m \u001b[38;5;129;01mnot\u001b[39;00m (\u001b[38;5;28mself\u001b[39m._backward_hooks \u001b[38;5;129;01mor\u001b[39;00m \u001b[38;5;28mself\u001b[39m._backward_pre_hooks \u001b[38;5;129;01mor\u001b[39;00m \u001b[38;5;28mself\u001b[39m._forward_hooks \u001b[38;5;129;01mor\u001b[39;00m \u001b[38;5;28mself\u001b[39m._forward_pre_hooks\n\u001b[32m   1760\u001b[39m         \u001b[38;5;129;01mor\u001b[39;00m _global_backward_pre_hooks \u001b[38;5;129;01mor\u001b[39;00m _global_backward_hooks\n\u001b[32m   1761\u001b[39m         \u001b[38;5;129;01mor\u001b[39;00m _global_forward_hooks \u001b[38;5;129;01mor\u001b[39;00m _global_forward_pre_hooks):\n\u001b[32m-> \u001b[39m\u001b[32m1762\u001b[39m     \u001b[38;5;28;01mreturn\u001b[39;00m \u001b[43mforward_call\u001b[49m\u001b[43m(\u001b[49m\u001b[43m*\u001b[49m\u001b[43margs\u001b[49m\u001b[43m,\u001b[49m\u001b[43m \u001b[49m\u001b[43m*\u001b[49m\u001b[43m*\u001b[49m\u001b[43mkwargs\u001b[49m\u001b[43m)\u001b[49m\n\u001b[32m   1764\u001b[39m result = \u001b[38;5;28;01mNone\u001b[39;00m\n\u001b[32m   1765\u001b[39m called_always_called_hooks = \u001b[38;5;28mset\u001b[39m()\n",
      "\u001b[36mFile \u001b[39m\u001b[32m~\\Documents\\Triamese-ViT\\Models\\MultiViewViT.py:41\u001b[39m, in \u001b[36mMultiViewViT.forward\u001b[39m\u001b[34m(self, x, return_attention_weights)\u001b[39m\n\u001b[32m     39\u001b[39m x3=x\n\u001b[32m     40\u001b[39m \u001b[38;5;28;01mif\u001b[39;00m return_attention_weights:\n\u001b[32m---> \u001b[39m\u001b[32m41\u001b[39m     out1, attn1 = \u001b[38;5;28;43mself\u001b[39;49m\u001b[43m.\u001b[49m\u001b[43mvit_1\u001b[49m\u001b[43m(\u001b[49m\u001b[43mx1\u001b[49m\u001b[43m,\u001b[49m\u001b[43m \u001b[49m\u001b[43mreturn_attention_weights\u001b[49m\u001b[43m=\u001b[49m\u001b[38;5;28;43;01mTrue\u001b[39;49;00m\u001b[43m)\u001b[49m\n\u001b[32m     42\u001b[39m     out2, attn2 = \u001b[38;5;28mself\u001b[39m.vit_2(x2, return_attention_weights=\u001b[38;5;28;01mTrue\u001b[39;00m)\n\u001b[32m     43\u001b[39m     out3, attn3 = \u001b[38;5;28mself\u001b[39m.vit_3(x3, return_attention_weights=\u001b[38;5;28;01mTrue\u001b[39;00m)\n",
      "\u001b[36mFile \u001b[39m\u001b[32m~\\anaconda3\\envs\\Triamese-ViT\\Lib\\site-packages\\torch\\nn\\modules\\module.py:1751\u001b[39m, in \u001b[36mModule._wrapped_call_impl\u001b[39m\u001b[34m(self, *args, **kwargs)\u001b[39m\n\u001b[32m   1749\u001b[39m     \u001b[38;5;28;01mreturn\u001b[39;00m \u001b[38;5;28mself\u001b[39m._compiled_call_impl(*args, **kwargs)  \u001b[38;5;66;03m# type: ignore[misc]\u001b[39;00m\n\u001b[32m   1750\u001b[39m \u001b[38;5;28;01melse\u001b[39;00m:\n\u001b[32m-> \u001b[39m\u001b[32m1751\u001b[39m     \u001b[38;5;28;01mreturn\u001b[39;00m \u001b[38;5;28;43mself\u001b[39;49m\u001b[43m.\u001b[49m\u001b[43m_call_impl\u001b[49m\u001b[43m(\u001b[49m\u001b[43m*\u001b[49m\u001b[43margs\u001b[49m\u001b[43m,\u001b[49m\u001b[43m \u001b[49m\u001b[43m*\u001b[49m\u001b[43m*\u001b[49m\u001b[43mkwargs\u001b[49m\u001b[43m)\u001b[49m\n",
      "\u001b[36mFile \u001b[39m\u001b[32m~\\anaconda3\\envs\\Triamese-ViT\\Lib\\site-packages\\torch\\nn\\modules\\module.py:1762\u001b[39m, in \u001b[36mModule._call_impl\u001b[39m\u001b[34m(self, *args, **kwargs)\u001b[39m\n\u001b[32m   1757\u001b[39m \u001b[38;5;66;03m# If we don't have any hooks, we want to skip the rest of the logic in\u001b[39;00m\n\u001b[32m   1758\u001b[39m \u001b[38;5;66;03m# this function, and just call forward.\u001b[39;00m\n\u001b[32m   1759\u001b[39m \u001b[38;5;28;01mif\u001b[39;00m \u001b[38;5;129;01mnot\u001b[39;00m (\u001b[38;5;28mself\u001b[39m._backward_hooks \u001b[38;5;129;01mor\u001b[39;00m \u001b[38;5;28mself\u001b[39m._backward_pre_hooks \u001b[38;5;129;01mor\u001b[39;00m \u001b[38;5;28mself\u001b[39m._forward_hooks \u001b[38;5;129;01mor\u001b[39;00m \u001b[38;5;28mself\u001b[39m._forward_pre_hooks\n\u001b[32m   1760\u001b[39m         \u001b[38;5;129;01mor\u001b[39;00m _global_backward_pre_hooks \u001b[38;5;129;01mor\u001b[39;00m _global_backward_hooks\n\u001b[32m   1761\u001b[39m         \u001b[38;5;129;01mor\u001b[39;00m _global_forward_hooks \u001b[38;5;129;01mor\u001b[39;00m _global_forward_pre_hooks):\n\u001b[32m-> \u001b[39m\u001b[32m1762\u001b[39m     \u001b[38;5;28;01mreturn\u001b[39;00m \u001b[43mforward_call\u001b[49m\u001b[43m(\u001b[49m\u001b[43m*\u001b[49m\u001b[43margs\u001b[49m\u001b[43m,\u001b[49m\u001b[43m \u001b[49m\u001b[43m*\u001b[49m\u001b[43m*\u001b[49m\u001b[43mkwargs\u001b[49m\u001b[43m)\u001b[49m\n\u001b[32m   1764\u001b[39m result = \u001b[38;5;28;01mNone\u001b[39;00m\n\u001b[32m   1765\u001b[39m called_always_called_hooks = \u001b[38;5;28mset\u001b[39m()\n",
      "\u001b[36mFile \u001b[39m\u001b[32m~\\Documents\\Triamese-ViT\\Models\\vit.py:221\u001b[39m, in \u001b[36mVisionTransformer.forward\u001b[39m\u001b[34m(self, x, return_attention_weights)\u001b[39m\n\u001b[32m    219\u001b[39m \u001b[38;5;66;03m# transformer\u001b[39;00m\n\u001b[32m    220\u001b[39m \u001b[38;5;28;01mif\u001b[39;00m return_attention_weights:\n\u001b[32m--> \u001b[39m\u001b[32m221\u001b[39m     feat, attention_weights = \u001b[38;5;28;43mself\u001b[39;49m\u001b[43m.\u001b[49m\u001b[43mtransformer\u001b[49m\u001b[43m(\u001b[49m\u001b[43memb\u001b[49m\u001b[43m,\u001b[49m\u001b[43m \u001b[49m\u001b[43mreturn_attention_weights\u001b[49m\u001b[43m=\u001b[49m\u001b[38;5;28;43;01mTrue\u001b[39;49;00m\u001b[43m)\u001b[49m\n\u001b[32m    222\u001b[39m \u001b[38;5;28;01melse\u001b[39;00m:\n\u001b[32m    223\u001b[39m     feat = \u001b[38;5;28mself\u001b[39m.transformer(emb)\n",
      "\u001b[36mFile \u001b[39m\u001b[32m~\\anaconda3\\envs\\Triamese-ViT\\Lib\\site-packages\\torch\\nn\\modules\\module.py:1751\u001b[39m, in \u001b[36mModule._wrapped_call_impl\u001b[39m\u001b[34m(self, *args, **kwargs)\u001b[39m\n\u001b[32m   1749\u001b[39m     \u001b[38;5;28;01mreturn\u001b[39;00m \u001b[38;5;28mself\u001b[39m._compiled_call_impl(*args, **kwargs)  \u001b[38;5;66;03m# type: ignore[misc]\u001b[39;00m\n\u001b[32m   1750\u001b[39m \u001b[38;5;28;01melse\u001b[39;00m:\n\u001b[32m-> \u001b[39m\u001b[32m1751\u001b[39m     \u001b[38;5;28;01mreturn\u001b[39;00m \u001b[38;5;28;43mself\u001b[39;49m\u001b[43m.\u001b[49m\u001b[43m_call_impl\u001b[49m\u001b[43m(\u001b[49m\u001b[43m*\u001b[49m\u001b[43margs\u001b[49m\u001b[43m,\u001b[49m\u001b[43m \u001b[49m\u001b[43m*\u001b[49m\u001b[43m*\u001b[49m\u001b[43mkwargs\u001b[49m\u001b[43m)\u001b[49m\n",
      "\u001b[36mFile \u001b[39m\u001b[32m~\\anaconda3\\envs\\Triamese-ViT\\Lib\\site-packages\\torch\\nn\\modules\\module.py:1762\u001b[39m, in \u001b[36mModule._call_impl\u001b[39m\u001b[34m(self, *args, **kwargs)\u001b[39m\n\u001b[32m   1757\u001b[39m \u001b[38;5;66;03m# If we don't have any hooks, we want to skip the rest of the logic in\u001b[39;00m\n\u001b[32m   1758\u001b[39m \u001b[38;5;66;03m# this function, and just call forward.\u001b[39;00m\n\u001b[32m   1759\u001b[39m \u001b[38;5;28;01mif\u001b[39;00m \u001b[38;5;129;01mnot\u001b[39;00m (\u001b[38;5;28mself\u001b[39m._backward_hooks \u001b[38;5;129;01mor\u001b[39;00m \u001b[38;5;28mself\u001b[39m._backward_pre_hooks \u001b[38;5;129;01mor\u001b[39;00m \u001b[38;5;28mself\u001b[39m._forward_hooks \u001b[38;5;129;01mor\u001b[39;00m \u001b[38;5;28mself\u001b[39m._forward_pre_hooks\n\u001b[32m   1760\u001b[39m         \u001b[38;5;129;01mor\u001b[39;00m _global_backward_pre_hooks \u001b[38;5;129;01mor\u001b[39;00m _global_backward_hooks\n\u001b[32m   1761\u001b[39m         \u001b[38;5;129;01mor\u001b[39;00m _global_forward_hooks \u001b[38;5;129;01mor\u001b[39;00m _global_forward_pre_hooks):\n\u001b[32m-> \u001b[39m\u001b[32m1762\u001b[39m     \u001b[38;5;28;01mreturn\u001b[39;00m \u001b[43mforward_call\u001b[49m\u001b[43m(\u001b[49m\u001b[43m*\u001b[49m\u001b[43margs\u001b[49m\u001b[43m,\u001b[49m\u001b[43m \u001b[49m\u001b[43m*\u001b[49m\u001b[43m*\u001b[49m\u001b[43mkwargs\u001b[49m\u001b[43m)\u001b[49m\n\u001b[32m   1764\u001b[39m result = \u001b[38;5;28;01mNone\u001b[39;00m\n\u001b[32m   1765\u001b[39m called_always_called_hooks = \u001b[38;5;28mset\u001b[39m()\n",
      "\u001b[36mFile \u001b[39m\u001b[32m~\\Documents\\Triamese-ViT\\Models\\vit.py:160\u001b[39m, in \u001b[36mEncoder.forward\u001b[39m\u001b[34m(self, x, return_attention_weights)\u001b[39m\n\u001b[32m    158\u001b[39m \u001b[38;5;28;01mfor\u001b[39;00m layer \u001b[38;5;129;01min\u001b[39;00m \u001b[38;5;28mself\u001b[39m.encoder_layers:\n\u001b[32m    159\u001b[39m     \u001b[38;5;28;01mif\u001b[39;00m return_attention_weights:\n\u001b[32m--> \u001b[39m\u001b[32m160\u001b[39m         out, attn_weights = \u001b[43mlayer\u001b[49m\u001b[43m(\u001b[49m\u001b[43mout\u001b[49m\u001b[43m,\u001b[49m\u001b[43m \u001b[49m\u001b[43mreturn_attention_weights\u001b[49m\u001b[43m=\u001b[49m\u001b[38;5;28;43;01mTrue\u001b[39;49;00m\u001b[43m)\u001b[49m\n\u001b[32m    161\u001b[39m         attention_weights.append(attn_weights)\n\u001b[32m    162\u001b[39m     \u001b[38;5;28;01melse\u001b[39;00m:\n",
      "\u001b[36mFile \u001b[39m\u001b[32m~\\anaconda3\\envs\\Triamese-ViT\\Lib\\site-packages\\torch\\nn\\modules\\module.py:1751\u001b[39m, in \u001b[36mModule._wrapped_call_impl\u001b[39m\u001b[34m(self, *args, **kwargs)\u001b[39m\n\u001b[32m   1749\u001b[39m     \u001b[38;5;28;01mreturn\u001b[39;00m \u001b[38;5;28mself\u001b[39m._compiled_call_impl(*args, **kwargs)  \u001b[38;5;66;03m# type: ignore[misc]\u001b[39;00m\n\u001b[32m   1750\u001b[39m \u001b[38;5;28;01melse\u001b[39;00m:\n\u001b[32m-> \u001b[39m\u001b[32m1751\u001b[39m     \u001b[38;5;28;01mreturn\u001b[39;00m \u001b[38;5;28;43mself\u001b[39;49m\u001b[43m.\u001b[49m\u001b[43m_call_impl\u001b[49m\u001b[43m(\u001b[49m\u001b[43m*\u001b[49m\u001b[43margs\u001b[49m\u001b[43m,\u001b[49m\u001b[43m \u001b[49m\u001b[43m*\u001b[49m\u001b[43m*\u001b[49m\u001b[43mkwargs\u001b[49m\u001b[43m)\u001b[49m\n",
      "\u001b[36mFile \u001b[39m\u001b[32m~\\anaconda3\\envs\\Triamese-ViT\\Lib\\site-packages\\torch\\nn\\modules\\module.py:1762\u001b[39m, in \u001b[36mModule._call_impl\u001b[39m\u001b[34m(self, *args, **kwargs)\u001b[39m\n\u001b[32m   1757\u001b[39m \u001b[38;5;66;03m# If we don't have any hooks, we want to skip the rest of the logic in\u001b[39;00m\n\u001b[32m   1758\u001b[39m \u001b[38;5;66;03m# this function, and just call forward.\u001b[39;00m\n\u001b[32m   1759\u001b[39m \u001b[38;5;28;01mif\u001b[39;00m \u001b[38;5;129;01mnot\u001b[39;00m (\u001b[38;5;28mself\u001b[39m._backward_hooks \u001b[38;5;129;01mor\u001b[39;00m \u001b[38;5;28mself\u001b[39m._backward_pre_hooks \u001b[38;5;129;01mor\u001b[39;00m \u001b[38;5;28mself\u001b[39m._forward_hooks \u001b[38;5;129;01mor\u001b[39;00m \u001b[38;5;28mself\u001b[39m._forward_pre_hooks\n\u001b[32m   1760\u001b[39m         \u001b[38;5;129;01mor\u001b[39;00m _global_backward_pre_hooks \u001b[38;5;129;01mor\u001b[39;00m _global_backward_hooks\n\u001b[32m   1761\u001b[39m         \u001b[38;5;129;01mor\u001b[39;00m _global_forward_hooks \u001b[38;5;129;01mor\u001b[39;00m _global_forward_pre_hooks):\n\u001b[32m-> \u001b[39m\u001b[32m1762\u001b[39m     \u001b[38;5;28;01mreturn\u001b[39;00m \u001b[43mforward_call\u001b[49m\u001b[43m(\u001b[49m\u001b[43m*\u001b[49m\u001b[43margs\u001b[49m\u001b[43m,\u001b[49m\u001b[43m \u001b[49m\u001b[43m*\u001b[49m\u001b[43m*\u001b[49m\u001b[43mkwargs\u001b[49m\u001b[43m)\u001b[49m\n\u001b[32m   1764\u001b[39m result = \u001b[38;5;28;01mNone\u001b[39;00m\n\u001b[32m   1765\u001b[39m called_always_called_hooks = \u001b[38;5;28mset\u001b[39m()\n",
      "\u001b[36mFile \u001b[39m\u001b[32m~\\Documents\\Triamese-ViT\\Models\\vit.py:123\u001b[39m, in \u001b[36mEncoderBlock.forward\u001b[39m\u001b[34m(self, x, return_attention_weights)\u001b[39m\n\u001b[32m    121\u001b[39m residual = x\n\u001b[32m    122\u001b[39m out = \u001b[38;5;28mself\u001b[39m.norm1(x)\n\u001b[32m--> \u001b[39m\u001b[32m123\u001b[39m out, attn_weights = \u001b[38;5;28;43mself\u001b[39;49m\u001b[43m.\u001b[49m\u001b[43mattn\u001b[49m\u001b[43m(\u001b[49m\u001b[43mout\u001b[49m\u001b[43m)\u001b[49m\n\u001b[32m    124\u001b[39m \u001b[38;5;28;01mif\u001b[39;00m \u001b[38;5;28mself\u001b[39m.dropout:\n\u001b[32m    125\u001b[39m     out = \u001b[38;5;28mself\u001b[39m.dropout(out)\n",
      "\u001b[36mFile \u001b[39m\u001b[32m~\\anaconda3\\envs\\Triamese-ViT\\Lib\\site-packages\\torch\\nn\\modules\\module.py:1751\u001b[39m, in \u001b[36mModule._wrapped_call_impl\u001b[39m\u001b[34m(self, *args, **kwargs)\u001b[39m\n\u001b[32m   1749\u001b[39m     \u001b[38;5;28;01mreturn\u001b[39;00m \u001b[38;5;28mself\u001b[39m._compiled_call_impl(*args, **kwargs)  \u001b[38;5;66;03m# type: ignore[misc]\u001b[39;00m\n\u001b[32m   1750\u001b[39m \u001b[38;5;28;01melse\u001b[39;00m:\n\u001b[32m-> \u001b[39m\u001b[32m1751\u001b[39m     \u001b[38;5;28;01mreturn\u001b[39;00m \u001b[38;5;28;43mself\u001b[39;49m\u001b[43m.\u001b[49m\u001b[43m_call_impl\u001b[49m\u001b[43m(\u001b[49m\u001b[43m*\u001b[49m\u001b[43margs\u001b[49m\u001b[43m,\u001b[49m\u001b[43m \u001b[49m\u001b[43m*\u001b[49m\u001b[43m*\u001b[49m\u001b[43mkwargs\u001b[49m\u001b[43m)\u001b[49m\n",
      "\u001b[36mFile \u001b[39m\u001b[32m~\\anaconda3\\envs\\Triamese-ViT\\Lib\\site-packages\\torch\\nn\\modules\\module.py:1762\u001b[39m, in \u001b[36mModule._call_impl\u001b[39m\u001b[34m(self, *args, **kwargs)\u001b[39m\n\u001b[32m   1757\u001b[39m \u001b[38;5;66;03m# If we don't have any hooks, we want to skip the rest of the logic in\u001b[39;00m\n\u001b[32m   1758\u001b[39m \u001b[38;5;66;03m# this function, and just call forward.\u001b[39;00m\n\u001b[32m   1759\u001b[39m \u001b[38;5;28;01mif\u001b[39;00m \u001b[38;5;129;01mnot\u001b[39;00m (\u001b[38;5;28mself\u001b[39m._backward_hooks \u001b[38;5;129;01mor\u001b[39;00m \u001b[38;5;28mself\u001b[39m._backward_pre_hooks \u001b[38;5;129;01mor\u001b[39;00m \u001b[38;5;28mself\u001b[39m._forward_hooks \u001b[38;5;129;01mor\u001b[39;00m \u001b[38;5;28mself\u001b[39m._forward_pre_hooks\n\u001b[32m   1760\u001b[39m         \u001b[38;5;129;01mor\u001b[39;00m _global_backward_pre_hooks \u001b[38;5;129;01mor\u001b[39;00m _global_backward_hooks\n\u001b[32m   1761\u001b[39m         \u001b[38;5;129;01mor\u001b[39;00m _global_forward_hooks \u001b[38;5;129;01mor\u001b[39;00m _global_forward_pre_hooks):\n\u001b[32m-> \u001b[39m\u001b[32m1762\u001b[39m     \u001b[38;5;28;01mreturn\u001b[39;00m \u001b[43mforward_call\u001b[49m\u001b[43m(\u001b[49m\u001b[43m*\u001b[49m\u001b[43margs\u001b[49m\u001b[43m,\u001b[49m\u001b[43m \u001b[49m\u001b[43m*\u001b[49m\u001b[43m*\u001b[49m\u001b[43mkwargs\u001b[49m\u001b[43m)\u001b[49m\n\u001b[32m   1764\u001b[39m result = \u001b[38;5;28;01mNone\u001b[39;00m\n\u001b[32m   1765\u001b[39m called_always_called_hooks = \u001b[38;5;28mset\u001b[39m()\n",
      "\u001b[36mFile \u001b[39m\u001b[32m~\\Documents\\Triamese-ViT\\Models\\vit.py:95\u001b[39m, in \u001b[36mSelfAttention.forward\u001b[39m\u001b[34m(self, x, return_attention_weights)\u001b[39m\n\u001b[32m     93\u001b[39m attn_weights = torch.matmul(q, k.transpose(-\u001b[32m2\u001b[39m, -\u001b[32m1\u001b[39m)) / \u001b[38;5;28mself\u001b[39m.scale\n\u001b[32m     94\u001b[39m attn_weights = F.softmax(attn_weights, dim=-\u001b[32m1\u001b[39m)\n\u001b[32m---> \u001b[39m\u001b[32m95\u001b[39m out = \u001b[43mtorch\u001b[49m\u001b[43m.\u001b[49m\u001b[43mmatmul\u001b[49m\u001b[43m(\u001b[49m\u001b[43mattn_weights\u001b[49m\u001b[43m,\u001b[49m\u001b[43m \u001b[49m\u001b[43mv\u001b[49m\u001b[43m)\u001b[49m\n\u001b[32m     96\u001b[39m out = out.permute(\u001b[32m0\u001b[39m, \u001b[32m2\u001b[39m, \u001b[32m1\u001b[39m, \u001b[32m3\u001b[39m)\n\u001b[32m     98\u001b[39m out = \u001b[38;5;28mself\u001b[39m.out(out, dims=([\u001b[32m2\u001b[39m, \u001b[32m3\u001b[39m], [\u001b[32m0\u001b[39m, \u001b[32m1\u001b[39m]))\n",
      "\u001b[31mKeyboardInterrupt\u001b[39m: "
     ]
    }
   ],
   "source": [
    "# ======== perform region-based occlusion analysis ======== #\n",
    "region_occlusion_results = perform_region_occlusion_analysis(\n",
    "    test_loader=valid_loader,\n",
    "    model=model,\n",
    "    device=\"cpu\",\n",
    "    atlas_data=atlas_data,\n",
    "    region_labels=region_labels,\n",
    "    region_mapping=region_mapping,\n",
    "    img_shape=img_shape\n",
    ")\n"
   ]
  },
  {
   "cell_type": "code",
   "execution_count": 59,
   "id": "abfac1cd-028d-45e5-b38f-c1dac97e3e4c",
   "metadata": {},
   "outputs": [],
   "source": [
    "\n",
    "def white0(image, threshold=0):\n",
    "    \"\"\"\n",
    "    Standardize voxels with value > threshold\n",
    "\n",
    "    Args:\n",
    "        image: Input image\n",
    "        threshold: Threshold value\n",
    "\n",
    "    Returns:\n",
    "        Standardized image\n",
    "    \"\"\"\n",
    "    image = image.astype(np.float32)\n",
    "    mask = (image > threshold).astype(int)\n",
    "\n",
    "    # Vectorized implementation to avoid unnecessary memory allocation\n",
    "    image_h = image * mask\n",
    "\n",
    "    # Calculate mean and std only for relevant voxels\n",
    "    non_zero_voxels = np.sum(mask)\n",
    "    if non_zero_voxels > 0:\n",
    "        mean = np.sum(image_h) / non_zero_voxels\n",
    "\n",
    "        # More memory efficient way to calculate std\n",
    "        std_sum = np.sum((image_h - mean * mask) ** 2)\n",
    "        std = np.sqrt(std_sum / non_zero_voxels)\n",
    "\n",
    "        if std > 0:\n",
    "            normalized = mask * (image - mean) / std\n",
    "            # Use in-place operations to reduce memory usage\n",
    "            image = normalized + image * (1 - mask)\n",
    "            return image\n",
    "\n",
    "    # Default case\n",
    "    return np.zeros_like(image, dtype=np.float32)"
   ]
  },
  {
   "cell_type": "code",
   "execution_count": 78,
   "id": "4052638c-2e96-4e75-9d5c-e2708a4286a8",
   "metadata": {},
   "outputs": [
    {
     "data": {
      "text/plain": [
       "array([   0.        ,   62.70738759,   77.06072473, ..., 1729.65351125,\n",
       "       1751.47270173, 1802.22936571])"
      ]
     },
     "execution_count": 78,
     "metadata": {},
     "output_type": "execute_result"
    }
   ],
   "source": [
    "fileidx = 10\n",
    "Files = os.listdir(DataFolder)\n",
    "img_data = nib.load(os.path.join(DataFolder, Files[fileidx]))\n",
    "img_data = img_data.get_fdata()\n",
    "# img_data = white0(img_data)\n",
    "np.unique(img_data[indx, :, :])"
   ]
  },
  {
   "cell_type": "code",
   "execution_count": 90,
   "id": "c3796d48-d8a2-4101-a6f8-0bb32ad5e943",
   "metadata": {},
   "outputs": [
    {
     "name": "stdout",
     "output_type": "stream",
     "text": [
      "[   0.           62.70738759   77.06072473 ... 1729.65351125 1751.47270173\n",
      " 1802.22936571]\n",
      "[   0. 2401. 2402. 2501. 2601. 2611. 2612. 2701. 2702. 4001. 4002. 4011.\n",
      " 4012. 4021. 5001. 5011. 5021. 6301. 6302. 6401. 6402. 7101. 9011. 9071.\n",
      " 9100. 9110. 9120. 9130. 9140. 9150. 9160. 9170.]\n",
      "[0.00000000e+00 1.00000000e+00 7.70607247e+01 ... 1.72965351e+03\n",
      " 1.75147270e+03 1.80222937e+03]\n"
     ]
    },
    {
     "data": {
      "image/png": "[encoded data removed]",
      "text/plain": [
       "<Figure size 1500x500 with 3 Axes>"
      ]
     },
     "metadata": {},
     "output_type": "display_data"
    }
   ],
   "source": [
    "import matplotlib.pyplot as plt\n",
    "import numpy as np\n",
    "\n",
    "indx = 45\n",
    "region_indx = 1\n",
    "# maskedimage = (sample_img == region_labels[region_indx])\n",
    "maskedimage = (atlas_data == 2401)\n",
    "fig, axes = plt.subplots(1, 3, figsize=(15, 5))\n",
    "\n",
    "# Axial (XY plane)\n",
    "axes[0].imshow(img_data[indx, :, :], cmap=\"gray\")\n",
    "axes[0].set_title(\"Axial\")\n",
    "axes[0].axis(\"off\")\n",
    "\n",
    "# Coronal (XZ plane)\n",
    "axes[1].imshow(maskedimage[indx,:, :], cmap=\"gray\")\n",
    "axes[1].set_title(\"Coronal\")\n",
    "axes[1].axis(\"off\")\n",
    "\n",
    "# print(np.unique(atlas_data[indx,:, :]))\n",
    "# print(np.unique(maskedimage[0,indx,:, :],))\n",
    "# Sagittal (YZ plane)\n",
    "print(np.unique(img_data[indx, :, :]))\n",
    "print(np.unique(atlas_data[indx,:, :]))\n",
    "maskedimage = np.where(maskedimage, 1, img_data)\n",
    "print(np.unique(maskedimage[indx,:, :]))\n",
    "axes[2].imshow(maskedimage[indx,:, :], cmap=\"gray\")\n",
    "axes[2].set_title(\"Sagittal\")\n",
    "axes[2].axis(\"off\")\n",
    "# print(np.unique(maskedimage[0,indx,:, :],))\n",
    "\n",
    "plt.show()\n"
   ]
  },
  {
   "cell_type": "code",
   "execution_count": 101,
   "id": "46350a14-6d96-49d3-84f7-9c3dc87e633c",
   "metadata": {},
   "outputs": [
    {
     "name": "stdout",
     "output_type": "stream",
     "text": [
      "[   0. 2331. 4011. 4012. 4021. 4022. 4101. 4102. 4111. 4112. 5021. 5022.\n",
      " 5401. 5402. 6001. 6002. 6102. 6201. 6202. 6211. 6212. 6301. 6302. 6401.\n",
      " 6402. 8111. 8112. 8201. 8202. 8301. 8302. 9001. 9002. 9012. 9021. 9022.\n",
      " 9031. 9032. 9041. 9042. 9051. 9052. 9061. 9062. 9081. 9082. 9100. 9110.]\n",
      "[0. 1.]\n"
     ]
    },
    {
     "data": {
      "image/png": "[encoded data removed]",
      "text/plain": [
       "<Figure size 1500x500 with 3 Axes>"
      ]
     },
     "metadata": {},
     "output_type": "display_data"
    }
   ],
   "source": [
    "import matplotlib.pyplot as plt\n",
    "import numpy as np\n",
    "\n",
    "indx = 45\n",
    "region_indx = 1\n",
    "# maskedimage = (sample_img == region_labels[region_indx])\n",
    "maskedimage1 = (atlas_data == 4011)\n",
    "maskedimage2 = (atlas_data == 4021)\n",
    "maskedimage3 = (atlas_data == 8112)\n",
    "maskedimage4 = (atlas_data == 8302)\n",
    "maskedimage5 = (atlas_data == 6401)\n",
    "maskedimage6 = (atlas_data == 9062)\n",
    "fig, axes = plt.subplots(1, 3, figsize=(15, 5))\n",
    "\n",
    "# Axial (XY plane)\n",
    "axes[0].imshow(img_data[ :,indx, :], cmap=\"gray\")\n",
    "axes[0].set_title(\"Axial\")\n",
    "axes[0].axis(\"off\")\n",
    "\n",
    "# Coronal (XZ plane)\n",
    "axes[1].imshow(atlas_data[:,indx, :], cmap=\"gray\")\n",
    "axes[1].set_title(\"Coronal\")\n",
    "axes[1].axis(\"off\")\n",
    "\n",
    "# print(np.unique(atlas_data[indx,:, :]))\n",
    "# print(np.unique(maskedimage[0,indx,:, :],))\n",
    "# Sagittal (YZ plane)\n",
    "# print(np.unique(img_data[indx, :, :]))\n",
    "print(np.unique(atlas_data[:,indx, :]))\n",
    "new_img = np.where(maskedimage1, 1, img_data)\n",
    "new_img = np.where(maskedimage2, 1, new_img)\n",
    "new_img = np.where(maskedimage3, 1, new_img)\n",
    "new_img = np.where(maskedimage4, 1, new_img)\n",
    "new_img = np.where(maskedimage5, 1, new_img)\n",
    "new_img = np.where(maskedimage6, 1, new_img)\n",
    "print(np.unique(maskedimage[indx,:, :]))\n",
    "axes[2].imshow(new_img[:,indx, :], cmap=\"gray\")\n",
    "axes[2].set_title(\"Sagittal\")\n",
    "axes[2].axis(\"off\")\n",
    "# print(np.unique(maskedimage[0,indx,:, :],))\n",
    "\n",
    "plt.show()"
   ]
  },
  {
   "cell_type": "code",
   "execution_count": 103,
   "id": "37ef594d-42ff-4841-961a-b64c912c9e95",
   "metadata": {},
   "outputs": [
    {
     "name": "stdout",
     "output_type": "stream",
     "text": [
      "[   0. 2001. 2002. 2101. 2102. 2201. 2202. 2301. 2302. 2311. 2312. 2331.\n",
      " 2332. 2601. 2602. 3001. 3002. 4001. 4002. 4021. 4022. 5001. 5002. 5011.\n",
      " 5012. 5101. 5102. 5201. 5202. 6001. 6002. 6211. 6212. 6301. 6302. 7001.\n",
      " 7002. 7101. 7102. 8111. 8112. 8201. 8202.]\n",
      "[0. 1.]\n"
     ]
    },
    {
     "data": {
      "image/png": "[encoded data removed]",
      "text/plain": [
       "<Figure size 1500x500 with 3 Axes>"
      ]
     },
     "metadata": {},
     "output_type": "display_data"
    }
   ],
   "source": [
    "import matplotlib.pyplot as plt\n",
    "import numpy as np\n",
    "\n",
    "indx = 45\n",
    "region_indx = 1\n",
    "# maskedimage = (sample_img == region_labels[region_indx])\n",
    "maskedimage1 = (atlas_data == 4011)\n",
    "maskedimage2 = (atlas_data == 4021)\n",
    "maskedimage3 = (atlas_data == 8112)\n",
    "maskedimage4 = (atlas_data == 8302)\n",
    "maskedimage5 = (atlas_data == 6401)\n",
    "maskedimage6 = (atlas_data == 9062)\n",
    "fig, axes = plt.subplots(1, 3, figsize=(15, 5))\n",
    "\n",
    "# Axial (XY plane)\n",
    "axes[0].imshow(img_data[ :, :,indx], cmap=\"gray\")\n",
    "axes[0].set_title(\"Axial\")\n",
    "axes[0].axis(\"off\")\n",
    "\n",
    "# Coronal (XZ plane)\n",
    "axes[1].imshow(atlas_data[:, :, indx], cmap=\"gray\")\n",
    "axes[1].set_title(\"Coronal\")\n",
    "axes[1].axis(\"off\")\n",
    "\n",
    "# print(np.unique(atlas_data[indx,:, :]))\n",
    "# print(np.unique(maskedimage[0,indx,:, :],))\n",
    "# Sagittal (YZ plane)\n",
    "# print(np.unique(img_data[indx, :, :]))\n",
    "print(np.unique(atlas_data[:,:, indx]))\n",
    "new_img = np.where(maskedimage1, 1, img_data)\n",
    "new_img = np.where(maskedimage2, 1, new_img)\n",
    "new_img = np.where(maskedimage3, 1, new_img)\n",
    "new_img = np.where(maskedimage4, 1, new_img)\n",
    "new_img = np.where(maskedimage5, 1, new_img)\n",
    "new_img = np.where(maskedimage6, 1, new_img)\n",
    "print(np.unique(maskedimage[indx,:, :]))\n",
    "axes[2].imshow(new_img[:, :,indx], cmap=\"gray\")\n",
    "axes[2].set_title(\"Sagittal\")\n",
    "axes[2].axis(\"off\")\n",
    "# print(np.unique(maskedimage[0,indx,:, :],))\n",
    "\n",
    "plt.show()"
   ]
  },
  {
   "cell_type": "code",
   "execution_count": 21,
   "id": "9acad7cb-3411-4bff-ac11-15abfa8108cb",
   "metadata": {},
   "outputs": [
    {
     "data": {
      "image/png": "[encoded data removed]",
      "text/plain": [
       "<Figure size 1000x500 with 2 Axes>"
      ]
     },
     "metadata": {},
     "output_type": "display_data"
    }
   ],
   "source": [
    "import matplotlib.pyplot as plt\n",
    "import numpy as np\n",
    "\n",
    "# Example: fake 3D image (depth, height, width)\n",
    "img = np.random.rand(64, 128, 128)\n",
    "\n",
    "indx = 45\n",
    "# Pick slice indices\n",
    "slice1 = sample_img[0,:,indx,:]   # axial slice (z=30)\n",
    "slice2 = atlas_data[:,indx,:]   # coronal slice (y=60)\n",
    "\n",
    "# Plot them side by side\n",
    "plt.figure(figsize=(10,5))\n",
    "\n",
    "plt.subplot(1, 2, 1)\n",
    "plt.imshow(slice1, cmap=\"gray\")\n",
    "plt.title(\"Axial slice\")\n",
    "plt.axis(\"off\")\n",
    "\n",
    "plt.subplot(1, 2, 2)\n",
    "plt.imshow(slice2, cmap=\"gray\")\n",
    "plt.title(\"Coronal slice\")\n",
    "plt.axis(\"off\")\n",
    "\n",
    "plt.show()\n"
   ]
  },
  {
   "cell_type": "code",
   "execution_count": 22,
   "id": "3b107e39-3ec2-4c06-a9bb-81d086cab5f6",
   "metadata": {},
   "outputs": [
    {
     "data": {
      "image/png": "[encoded data removed]",
      "text/plain": [
       "<Figure size 1000x500 with 2 Axes>"
      ]
     },
     "metadata": {},
     "output_type": "display_data"
    }
   ],
   "source": [
    "import matplotlib.pyplot as plt\n",
    "import numpy as np\n",
    "\n",
    "# Example: fake 3D image (depth, height, width)\n",
    "img = np.random.rand(64, 128, 128)\n",
    "\n",
    "indx = 45\n",
    "# Pick slice indices\n",
    "slice1 = sample_img[0,:,:,indx]   # axial slice (z=30)\n",
    "slice2 = atlas_data[:,:,indx]   # coronal slice (y=60)\n",
    "\n",
    "# Plot them side by side\n",
    "plt.figure(figsize=(10,5))\n",
    "\n",
    "plt.subplot(1, 2, 1)\n",
    "plt.imshow(slice1, cmap=\"gray\")\n",
    "plt.title(\"Axial slice\")\n",
    "plt.axis(\"off\")\n",
    "\n",
    "plt.subplot(1, 2, 2)\n",
    "plt.imshow(slice2, cmap=\"gray\")\n",
    "plt.title(\"Coronal slice\")\n",
    "plt.axis(\"off\")\n",
    "\n",
    "plt.show()"
   ]
  },
  {
   "cell_type": "code",
   "execution_count": null,
   "id": "ada5bd4a-1362-46a3-bf9c-9946da5b8530",
   "metadata": {},
   "outputs": [],
   "source": []
  }
 ],
 "metadata": {
  "kernelspec": {
   "display_name": "Python 3 (ipykernel)",
   "language": "python",
   "name": "python3"
  },
  "language_info": {
   "codemirror_mode": {
    "name": "ipython",
    "version": 3
   },
   "file_extension": ".py",
   "mimetype": "text/x-python",
   "name": "python",
   "nbconvert_exporter": "python",
   "pygments_lexer": "ipython3",
   "version": "3.11.13"
  }
 },
 "nbformat": 4,
 "nbformat_minor": 5
}
